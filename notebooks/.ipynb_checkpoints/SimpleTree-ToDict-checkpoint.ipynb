{
 "cells": [
  {
   "cell_type": "code",
   "execution_count": 3,
   "metadata": {
    "collapsed": true
   },
   "outputs": [],
   "source": [
    "import numpy as np\n",
    "import pandas as pd\n",
    "import json\n",
    "import os\n",
    "import copy\n",
    "from itertools import chain\n",
    "\n"
   ]
  },
  {
   "cell_type": "code",
   "execution_count": 4,
   "metadata": {
    "collapsed": false
   },
   "outputs": [],
   "source": [
    "tree = [{\"name\":\"A\",\n",
    "        \"children\":[{\"name\":\"B\",\"children\":[{\"name\":\"E\",\"children\":[{\"name\":\"Q\",\"children\":None},\n",
    "                                                                    {\"name\":\"R\",\"children\":[{\"name\":\"S\",\"children\":None},\n",
    "                                                                                            {\"name\":\"T\",\"children\":[{\"name\":\"U\",\"children\":None},\n",
    "                                                                                                                    {\"name\":\"V\",\"children\":None}]}]}]},\n",
    "                                            {\"name\":\"F\",\"children\":None},\n",
    "                                            {\"name\":\"G\",\"children\":[{\"name\":\"O\",\"children\":None},{\"name\":\"P\",\"children\":None}]}]},\n",
    "                    {\"name\":\"C\",\"children\":[{\"name\":\"H\",\"children\":[{\"name\":\"M\",\"children\":None},\n",
    "                                                                    {\"name\":\"N\",\"children\":None}]},\n",
    "                                            {\"name\":\"I\",\"children\":[{\"name\":\"K\",\"children\":None},\n",
    "                                                                    {\"name\":\"L\",\"children\":None}]},\n",
    "                                            {\"name\":\"J\",\"children\":None}]},\n",
    "                   {\"name\":\"D\",\"children\":None}]}]\n",
    "json.dump(tree[0],open(\"../visualization/myTree.json\",\"w\"))"
   ]
  },
  {
   "cell_type": "markdown",
   "metadata": {},
   "source": [
    "# Store All Branches"
   ]
  },
  {
   "cell_type": "code",
   "execution_count": 20,
   "metadata": {
    "collapsed": true
   },
   "outputs": [],
   "source": [
    "class myTree:\n",
    "    def __init__(self,name,children=None,childrenSet=False):\n",
    "        self.name = name\n",
    "        self.children = children\n",
    "        self.myBranch = []\n",
    "        self.childrenSet = childrenSet "
   ]
  },
  {
   "cell_type": "code",
   "execution_count": 21,
   "metadata": {
    "collapsed": false
   },
   "outputs": [],
   "source": [
    "def myDf(nodes,Leaves):\n",
    "    if nodes is not None:\n",
    "        for node in nodes:\n",
    "            print \"node name \", node[\"name\"]\n",
    "            if(node[\"children\"] == None):\n",
    "                Leaves.append(node[\"name\"])\n",
    "            yield node\n",
    "            for child in myDf(node['children'],Leaves):\n",
    "                yield child\n",
    "\n",
    "def setObjects(nodes,Nodes):\n",
    "    \"\"\"\n",
    "    Define intial set of nodes which have empty children\n",
    "    \"\"\"\n",
    "    if nodes is not None:\n",
    "        for node in nodes:\n",
    "            if(node[\"children\"]==None):\n",
    "                Nodes.append(myTree(node[\"name\"],childrenSet=True))\n",
    "            else:\n",
    "                Nodes.append(myTree(node[\"name\"]))\n",
    "            yield node\n",
    "            for child in setObjects(node['children'],Nodes):\n",
    "                yield child\n",
    "                \n",
    "def startNodes(Nodes):\n",
    "    toIntegrate = [node for node in Nodes if node.childrenSet==True]\n",
    "    return toIntegrate\n",
    "\n",
    "def setChildren(nodes):\n",
    "    if nodes is not None:\n",
    "        for node in nodes:\n",
    "            \n",
    "            #CHECKING IF ALL CHILDRENS ARE READY=================\n",
    "            childrensReady = []\n",
    "            l = []\n",
    "            if node[\"children\"] is not None:\n",
    "                for cN in node[\"children\"]:\n",
    "                    if cN[\"name\"] in readyNodesStrings0:\n",
    "                        childrensReady.append(True)\n",
    "                        for a in readyNodes0:\n",
    "                            if a.name == cN[\"name\"]:\n",
    "                                l.append(a)\n",
    "                    else:\n",
    "                        childrensReady.append(False)\n",
    "            #=====================================================\n",
    "            \n",
    "            \n",
    "            #HERE WE JOIN KNOWING THAT ALL CHILDRENS ARE READY\n",
    "            if(False not in childrensReady and childrensReady != []):\n",
    "                print node[\"name\"]\n",
    "                readyNodes.append(myTree(node[\"name\"],l[:],childrenSet=True))\n",
    "                readyNodesStrings.append(node[\"name\"])\n",
    "                joined.extend([n[\"name\"] for n in node[\"children\"]])\n",
    "                print joined\n",
    "        \n",
    "            #HERE WE KEEP SINCE IT WAS READY BEFORE\n",
    "            elif(node[\"name\"] in readyNodesStrings0 and node[\"name\"] not in joined):\n",
    "                for a in readyNodes0:\n",
    "                    if a.name == node[\"name\"]:\n",
    "                        readyNodesStrings.append(node[\"name\"])\n",
    "                        readyNodes.append(a)\n",
    "            for child in setChildren(node['children']):\n",
    "                yield child"
   ]
  },
  {
   "cell_type": "markdown",
   "metadata": {},
   "source": [
    "# Full Set Of Objects"
   ]
  },
  {
   "cell_type": "code",
   "execution_count": 22,
   "metadata": {
    "collapsed": false,
    "scrolled": false
   },
   "outputs": [
    {
     "name": "stdout",
     "output_type": "stream",
     "text": [
      "T\n",
      "['U', 'V']\n",
      "G\n",
      "['U', 'V', 'O', 'P']\n",
      "H\n",
      "['U', 'V', 'O', 'P', 'M', 'N']\n",
      "I\n",
      "['U', 'V', 'O', 'P', 'M', 'N', 'K', 'L']\n",
      "R\n",
      "['S', 'T']\n",
      "C\n",
      "['S', 'T', 'H', 'I', 'J']\n",
      "E\n",
      "['Q', 'R']\n",
      "B\n",
      "['E', 'F', 'G']\n",
      "A\n",
      "['B', 'C', 'D']\n"
     ]
    }
   ],
   "source": [
    "Nodes = []\n",
    "for a in setObjects(tree,Nodes):\n",
    "    pass\n",
    "\n",
    "Nodes0 = Nodes[:]\n",
    "readyNodes0 = startNodes(Nodes)\n",
    "readyNodesStrings0 = [n.name for n in startNodes(Nodes)]\n",
    "\n",
    "while len(readyNodes0) != 1:\n",
    "    readyNodes = []\n",
    "    readyNodesStrings = []\n",
    "    joined = []\n",
    "    for a in setChildren(tree):\n",
    "        pass\n",
    "\n",
    "    readyNodes0 = readyNodes[:]\n",
    "    readyNodesStrings0 = readyNodesStrings[:]"
   ]
  },
  {
   "cell_type": "markdown",
   "metadata": {
    "collapsed": false
   },
   "source": [
    "# Reverse Task"
   ]
  },
  {
   "cell_type": "code",
   "execution_count": 35,
   "metadata": {
    "collapsed": true
   },
   "outputs": [],
   "source": [
    "def setDictionary(nodes,initialDict,initialNames):\n",
    "    if nodes is not None:\n",
    "        for node in nodes:\n",
    "            if node.children == None:\n",
    "                initialDict.append({\"name\":node.name,\"children\":node.children})\n",
    "                initialNames.append(node.name)\n",
    "            for child in setDictionary(node.children,initialDict,initialNames):\n",
    "                yield child"
   ]
  },
  {
   "cell_type": "code",
   "execution_count": 100,
   "metadata": {
    "collapsed": false
   },
   "outputs": [],
   "source": [
    "joined = []\n",
    "initialDict = []\n",
    "initialNames = []\n",
    "def fillDictionary(nodes):\n",
    "    if nodes is not None:\n",
    "        for node in nodes:\n",
    "            try:\n",
    "                numberOfChildren = len(set(node.children))\n",
    "                childrenNames = [a.name for a in node.children]\n",
    "                if len(set(childrenNames).intersection(set(initialNames0))) == numberOfChildren:\n",
    "                    print node.name\n",
    "                \n",
    "                    thisDict = []\n",
    "                    for nodeDict in initialDict0:\n",
    "                        if nodeDict[\"name\"] in childrenNames:\n",
    "                            thisDict.append(nodeDict)\n",
    "\n",
    "                    initialDict.append({\"name\":node.name,\"children\":thisDict})\n",
    "                    initialNames.append(node.name)\n",
    "                    joined.extend(childrenNames)\n",
    "                elif(node.name in initialNames0 and node[\"name\"] not in joined):\n",
    "                    for nodeDict in initialDict0:\n",
    "                        if nodeDict[\"name\"] == node.name:\n",
    "                            initialDict.append(nodeDict)\n",
    "                            initialNames.append(node.name)\n",
    "            except:\n",
    "                if(node.name in initialNames0 and node.name not in joined):\n",
    "                    for nodeDict in initialDict0:\n",
    "                        if nodeDict[\"name\"] == node.name:\n",
    "                            initialDict.append(nodeDict)\n",
    "                            initialNames.append(node.name)\n",
    "                yield node\n",
    "            for child in fillDictionary(node.children):\n",
    "                yield child"
   ]
  },
  {
   "cell_type": "code",
   "execution_count": 101,
   "metadata": {
    "collapsed": false,
    "scrolled": true
   },
   "outputs": [],
   "source": [
    "initialDict0 = []\n",
    "initialNames0 = []\n",
    "\n",
    "for a in setDictionary(readyNodes,initialDict0,initialNames0):\n",
    "    pass"
   ]
  },
  {
   "cell_type": "code",
   "execution_count": 108,
   "metadata": {
    "collapsed": false
   },
   "outputs": [
    {
     "name": "stdout",
     "output_type": "stream",
     "text": [
      "A\n"
     ]
    }
   ],
   "source": [
    "initialDict = []\n",
    "initialNames = []\n",
    "for a in fillDictionary(readyNodes):\n",
    "    pass\n",
    "initialDict0 = initialDict[:]\n",
    "initialNames0 = initialNames[:]"
   ]
  },
  {
   "cell_type": "code",
   "execution_count": 109,
   "metadata": {
    "collapsed": false
   },
   "outputs": [
    {
     "data": {
      "text/plain": [
       "[{'children': [{'children': [{'children': [{'children': None, 'name': 'Q'},\n",
       "       {'children': [{'children': None, 'name': 'S'},\n",
       "         {'children': [{'children': None, 'name': 'U'},\n",
       "           {'children': None, 'name': 'V'}],\n",
       "          'name': 'T'}],\n",
       "        'name': 'R'}],\n",
       "      'name': 'E'},\n",
       "     {'children': None, 'name': 'F'},\n",
       "     {'children': [{'children': None, 'name': 'O'},\n",
       "       {'children': None, 'name': 'P'}],\n",
       "      'name': 'G'}],\n",
       "    'name': 'B'},\n",
       "   {'children': [{'children': [{'children': None, 'name': 'M'},\n",
       "       {'children': None, 'name': 'N'}],\n",
       "      'name': 'H'},\n",
       "     {'children': [{'children': None, 'name': 'K'},\n",
       "       {'children': None, 'name': 'L'}],\n",
       "      'name': 'I'},\n",
       "     {'children': None, 'name': 'J'}],\n",
       "    'name': 'C'},\n",
       "   {'children': None, 'name': 'D'}],\n",
       "  'name': 'A'}]"
      ]
     },
     "execution_count": 109,
     "metadata": {},
     "output_type": "execute_result"
    }
   ],
   "source": [
    "initialDict\n",
    "json.dump(tree[0],open(\"../visualization/myTree2.json\",\"w\"))"
   ]
  },
  {
   "cell_type": "code",
   "execution_count": null,
   "metadata": {
    "collapsed": true
   },
   "outputs": [],
   "source": []
  }
 ],
 "metadata": {
  "kernelspec": {
   "display_name": "Python 2",
   "language": "python",
   "name": "python2"
  },
  "language_info": {
   "codemirror_mode": {
    "name": "ipython",
    "version": 2
   },
   "file_extension": ".py",
   "mimetype": "text/x-python",
   "name": "python",
   "nbconvert_exporter": "python",
   "pygments_lexer": "ipython2",
   "version": "2.7.11"
  }
 },
 "nbformat": 4,
 "nbformat_minor": 0
}
