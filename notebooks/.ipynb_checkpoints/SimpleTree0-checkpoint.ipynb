{
 "cells": [
  {
   "cell_type": "code",
   "execution_count": 1,
   "metadata": {
    "collapsed": true
   },
   "outputs": [],
   "source": [
    "import numpy as np\n",
    "import pandas as pd\n",
    "import json\n",
    "import os\n",
    "import copy\n",
    "from itertools import chain"
   ]
  },
  {
   "cell_type": "code",
   "execution_count": 75,
   "metadata": {
    "collapsed": false
   },
   "outputs": [],
   "source": [
    "tree = [{\"name\":\"A\",\n",
    "        \"children\":[{\"name\":\"B\",\"children\":[{\"name\":\"E\",\"children\":[{\"name\":\"Q\",\"children\":None},\n",
    "                                                                    {\"name\":\"R\",\"children\":[{\"name\":\"S\",\"children\":None},\n",
    "                                                                                            {\"name\":\"T\",\"children\":[{\"name\":\"U\",\"children\":None},\n",
    "                                                                                                                    {\"name\":\"V\",\"children\":None}]}]}]},\n",
    "                                            {\"name\":\"F\",\"children\":None},\n",
    "                                            {\"name\":\"G\",\"children\":[{\"name\":\"O\",\"children\":None},{\"name\":\"P\",\"children\":None}]}]},\n",
    "                    {\"name\":\"C\",\"children\":[{\"name\":\"H\",\"children\":[{\"name\":\"M\",\"children\":None},\n",
    "                                                                    {\"name\":\"N\",\"children\":None}]},\n",
    "                                            {\"name\":\"I\",\"children\":[{\"name\":\"K\",\"children\":None},\n",
    "                                                                    {\"name\":\"L\",\"children\":None}]},\n",
    "                                            {\"name\":\"J\",\"children\":None}]},\n",
    "                   {\"name\":\"D\",\"children\":None}]}]\n",
    "json.dump(tree[0],open(\"../visualization/myTree.json\",\"w\"))"
   ]
  },
  {
   "cell_type": "markdown",
   "metadata": {},
   "source": [
    "# Store All Branches"
   ]
  },
  {
   "cell_type": "code",
   "execution_count": 80,
   "metadata": {
    "collapsed": false
   },
   "outputs": [],
   "source": [
    "def myDf(nodes):\n",
    "    if nodes is not None:\n",
    "        for node in nodes:\n",
    "            yield node\n",
    "            for child in myDf(node['children']):\n",
    "                yield child"
   ]
  },
  {
   "cell_type": "code",
   "execution_count": 82,
   "metadata": {
    "collapsed": false,
    "scrolled": true
   },
   "outputs": [
    {
     "name": "stdout",
     "output_type": "stream",
     "text": [
      "A\n",
      "B\n",
      "E\n",
      "Q\n",
      "R\n",
      "S\n",
      "T\n",
      "U\n",
      "V\n",
      "F\n",
      "G\n",
      "O\n",
      "P\n",
      "C\n",
      "H\n",
      "M\n",
      "N\n",
      "I\n",
      "K\n",
      "L\n",
      "J\n",
      "D\n"
     ]
    }
   ],
   "source": [
    "for node in myDf(tree):\n",
    "    print node[\"name\"]"
   ]
  }
 ],
 "metadata": {
  "kernelspec": {
   "display_name": "Python 2",
   "language": "python",
   "name": "python2"
  },
  "language_info": {
   "codemirror_mode": {
    "name": "ipython",
    "version": 2
   },
   "file_extension": ".py",
   "mimetype": "text/x-python",
   "name": "python",
   "nbconvert_exporter": "python",
   "pygments_lexer": "ipython2",
   "version": "2.7.11"
  }
 },
 "nbformat": 4,
 "nbformat_minor": 0
}
