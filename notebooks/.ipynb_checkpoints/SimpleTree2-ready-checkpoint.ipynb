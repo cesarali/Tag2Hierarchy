{
 "cells": [
  {
   "cell_type": "code",
   "execution_count": 301,
   "metadata": {
    "collapsed": true
   },
   "outputs": [],
   "source": [
    "import numpy as np\n",
    "import pandas as pd\n",
    "import json\n",
    "import os\n",
    "import copy\n",
    "from itertools import chain\n",
    "\n"
   ]
  },
  {
   "cell_type": "code",
   "execution_count": 302,
   "metadata": {
    "collapsed": false
   },
   "outputs": [],
   "source": [
    "tree = [{\"name\":\"A\",\n",
    "        \"children\":[{\"name\":\"B\",\"children\":[{\"name\":\"E\",\"children\":[{\"name\":\"Q\",\"children\":None},\n",
    "                                                                    {\"name\":\"R\",\"children\":[{\"name\":\"S\",\"children\":None},\n",
    "                                                                                            {\"name\":\"T\",\"children\":[{\"name\":\"U\",\"children\":None},\n",
    "                                                                                                                    {\"name\":\"V\",\"children\":None}]}]}]},\n",
    "                                            {\"name\":\"F\",\"children\":None},\n",
    "                                            {\"name\":\"G\",\"children\":[{\"name\":\"O\",\"children\":None},{\"name\":\"P\",\"children\":None}]}]},\n",
    "                    {\"name\":\"C\",\"children\":[{\"name\":\"H\",\"children\":[{\"name\":\"M\",\"children\":None},\n",
    "                                                                    {\"name\":\"N\",\"children\":None}]},\n",
    "                                            {\"name\":\"I\",\"children\":[{\"name\":\"K\",\"children\":None},\n",
    "                                                                    {\"name\":\"L\",\"children\":None}]},\n",
    "                                            {\"name\":\"J\",\"children\":None}]},\n",
    "                   {\"name\":\"D\",\"children\":None}]}]\n",
    "json.dump(tree[0],open(\"../visualization/myTree.json\",\"w\"))"
   ]
  },
  {
   "cell_type": "markdown",
   "metadata": {},
   "source": [
    "# Store All Branches"
   ]
  },
  {
   "cell_type": "code",
   "execution_count": 303,
   "metadata": {
    "collapsed": true
   },
   "outputs": [],
   "source": [
    "class myTree:\n",
    "    def __init__(self,name,children=None,childrenSet=False):\n",
    "        self.name = name\n",
    "        self.children = children\n",
    "        self.myBranch = []\n",
    "        self.childrenSet = childrenSet "
   ]
  },
  {
   "cell_type": "code",
   "execution_count": 327,
   "metadata": {
    "collapsed": false
   },
   "outputs": [],
   "source": [
    "def myDf(nodes,Leaves):\n",
    "    if nodes is not None:\n",
    "        for node in nodes:\n",
    "            print \"node name \", node[\"name\"]\n",
    "            if(node[\"children\"] == None):\n",
    "                Leaves.append(node[\"name\"])\n",
    "            yield node\n",
    "            for child in myDf(node['children'],Leaves):\n",
    "                yield child\n",
    "Nodes = []\n",
    "def setObjects(nodes):\n",
    "    if nodes is not None:\n",
    "        for node in nodes:\n",
    "            if(node[\"children\"]==None):\n",
    "                Nodes.append(myTree(node[\"name\"],childrenSet=True))\n",
    "            else:\n",
    "                Nodes.append(myTree(node[\"name\"]))\n",
    "            yield node\n",
    "            for child in setObjects(node['children']):\n",
    "                yield child\n",
    "                \n",
    "def startNodes(Nodes):\n",
    "    toIntegrate = [node for node in Nodes if node.childrenSet==True]\n",
    "    return toIntegrate"
   ]
  },
  {
   "cell_type": "code",
   "execution_count": 328,
   "metadata": {
    "collapsed": false
   },
   "outputs": [
    {
     "name": "stdout",
     "output_type": "stream",
     "text": [
      "22\n"
     ]
    }
   ],
   "source": [
    "Nodes = []\n",
    "for a in setObjects(tree):\n",
    "    pass\n",
    "\n",
    "Nodes0 = Nodes[:]\n",
    "Leaves0 = [n.name for n in startNodes(Nodes)]\n",
    "readyNodes0 = startNodes(Nodes)\n",
    "readyNodesStrings0 = [n.name for n in startNodes(Nodes)]\n",
    "print len(Nodes)"
   ]
  },
  {
   "cell_type": "code",
   "execution_count": 329,
   "metadata": {
    "collapsed": false
   },
   "outputs": [],
   "source": [
    "def setChildren(nodes):\n",
    "    if nodes is not None:\n",
    "        for node in nodes:\n",
    "            \n",
    "            \n",
    "            #CHECKING IF ALL CHILDRENS ARE READY=================\n",
    "            childrensReady = []\n",
    "            l = []\n",
    "            if node[\"children\"] is not None:\n",
    "                for cN in node[\"children\"]:\n",
    "                    if cN[\"name\"] in readyNodesStrings0:\n",
    "                        childrensReady.append(True)\n",
    "                        for a in readyNodes0:\n",
    "                            if a.name == cN[\"name\"]:\n",
    "                                l.append(a)\n",
    "                    else:\n",
    "                        childrensReady.append(False)\n",
    "            #=====================================================\n",
    "            \n",
    "            \n",
    "            #HERE WE JOIN KNOWING THAT ALL CHILDRENS ARE READY\n",
    "            if(False not in childrensReady and childrensReady != []):\n",
    "                print node[\"name\"]\n",
    "                readyNodes.append(myTree(node[\"name\"],l[:],childrenSet=True))\n",
    "                readyNodesStrings.append(node[\"name\"])\n",
    "                joined.extend([n[\"name\"] for n in node[\"children\"]])\n",
    "                print joined\n",
    "        \n",
    "            #HERE WE KEEP SINCE IT WAS READY BEFORE\n",
    "            elif(node[\"name\"] in readyNodesStrings0 and node[\"name\"] not in joined):\n",
    "                for a in readyNodes0:\n",
    "                    if a.name == node[\"name\"]:\n",
    "                        readyNodesStrings.append(node[\"name\"])\n",
    "                        readyNodes.append(a)\n",
    "            for child in setChildren(node['children']):\n",
    "                yield child"
   ]
  },
  {
   "cell_type": "code",
   "execution_count": 339,
   "metadata": {
    "collapsed": false
   },
   "outputs": [
    {
     "name": "stdout",
     "output_type": "stream",
     "text": [
      "A\n",
      "['B', 'C', 'D']\n"
     ]
    }
   ],
   "source": [
    "readyNodes = []\n",
    "readyNodesStrings = []\n",
    "joined = []\n",
    "for a in setChildren(tree):\n",
    "    pass\n",
    "\n",
    "readyNodes0 = readyNodes[:]\n",
    "readyNodesStrings0 = readyNodesStrings[:]"
   ]
  },
  {
   "cell_type": "code",
   "execution_count": 338,
   "metadata": {
    "collapsed": false
   },
   "outputs": [
    {
     "data": {
      "text/plain": [
       "['B', 'C', 'D']"
      ]
     },
     "execution_count": 338,
     "metadata": {},
     "output_type": "execute_result"
    }
   ],
   "source": [
    "readyNodesStrings0"
   ]
  },
  {
   "cell_type": "code",
   "execution_count": 341,
   "metadata": {
    "collapsed": false
   },
   "outputs": [
    {
     "data": {
      "text/plain": [
       "'A'"
      ]
     },
     "execution_count": 341,
     "metadata": {},
     "output_type": "execute_result"
    }
   ],
   "source": [
    "readyNodes[0].name"
   ]
  },
  {
   "cell_type": "code",
   "execution_count": null,
   "metadata": {
    "collapsed": true
   },
   "outputs": [],
   "source": []
  }
 ],
 "metadata": {
  "kernelspec": {
   "display_name": "Python 2",
   "language": "python",
   "name": "python2"
  },
  "language_info": {
   "codemirror_mode": {
    "name": "ipython",
    "version": 2
   },
   "file_extension": ".py",
   "mimetype": "text/x-python",
   "name": "python",
   "nbconvert_exporter": "python",
   "pygments_lexer": "ipython2",
   "version": "2.7.11"
  }
 },
 "nbformat": 4,
 "nbformat_minor": 0
}
