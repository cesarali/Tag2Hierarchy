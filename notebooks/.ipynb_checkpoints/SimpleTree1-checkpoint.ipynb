{
 "cells": [
  {
   "cell_type": "code",
   "execution_count": 1,
   "metadata": {
    "collapsed": true
   },
   "outputs": [],
   "source": [
    "import numpy as np\n",
    "import pandas as pd\n",
    "import json\n",
    "import os\n",
    "import copy\n",
    "from itertools import chain\n",
    "\n"
   ]
  },
  {
   "cell_type": "code",
   "execution_count": 89,
   "metadata": {
    "collapsed": false
   },
   "outputs": [],
   "source": [
    "tree = [{\"name\":\"A\",\n",
    "        \"children\":[{\"name\":\"B\",\"children\":[{\"name\":\"E\",\"children\":[{\"name\":\"Q\",\"children\":None},\n",
    "                                                                    {\"name\":\"R\",\"children\":[{\"name\":\"S\",\"children\":None},\n",
    "                                                                                            {\"name\":\"T\",\"children\":[{\"name\":\"U\",\"children\":None},\n",
    "                                                                                                                    {\"name\":\"V\",\"children\":None}]}]}]},\n",
    "                                            {\"name\":\"F\",\"children\":None},\n",
    "                                            {\"name\":\"G\",\"children\":[{\"name\":\"O\",\"children\":None},{\"name\":\"P\",\"children\":None}]}]},\n",
    "                    {\"name\":\"C\",\"children\":[{\"name\":\"H\",\"children\":[{\"name\":\"M\",\"children\":None},\n",
    "                                                                    {\"name\":\"N\",\"children\":None}]},\n",
    "                                            {\"name\":\"I\",\"children\":[{\"name\":\"K\",\"children\":None},\n",
    "                                                                    {\"name\":\"L\",\"children\":None}]},\n",
    "                                            {\"name\":\"J\",\"children\":None}]},\n",
    "                   {\"name\":\"D\",\"children\":None}]}]\n",
    "json.dump(tree[0],open(\"../visualization/myTree.json\",\"w\"))"
   ]
  },
  {
   "cell_type": "markdown",
   "metadata": {},
   "source": [
    "# Store All Branches"
   ]
  },
  {
   "cell_type": "code",
   "execution_count": 128,
   "metadata": {
    "collapsed": true
   },
   "outputs": [],
   "source": [
    "class myTree:\n",
    "    def __init__(self,name,children=None,childrenSet=False):\n",
    "        self.name = name\n",
    "        self.children = children\n",
    "        self.myBranch = []\n",
    "        self.childrenSet = childrenSet "
   ]
  },
  {
   "cell_type": "code",
   "execution_count": 171,
   "metadata": {
    "collapsed": false
   },
   "outputs": [],
   "source": [
    "def myDf(nodes,Leaves):\n",
    "    if nodes is not None:\n",
    "        for node in nodes:\n",
    "            print \"node name \", node[\"name\"]\n",
    "            if(node[\"children\"] == None):\n",
    "                Leaves.append(node[\"name\"])\n",
    "            yield node\n",
    "            for child in myDf(node['children'],Leaves):\n",
    "                yield child\n",
    "Nodes = []\n",
    "def setObjects(nodes):\n",
    "    if nodes is not None:\n",
    "        for node in nodes:\n",
    "            if(node[\"children\"]==None):\n",
    "                Nodes.append(myTree(node[\"name\"],childrenSet=True))\n",
    "            else:\n",
    "                Nodes.append(myTree(node[\"name\"]))\n",
    "            yield node\n",
    "            for child in setObjects(node['children']):\n",
    "                yield child\n",
    "                \n",
    "def startNodes(Nodes):\n",
    "    toIntegrate = [node for node in Nodes if node.childrenSet==True]\n",
    "    return toIntegrate"
   ]
  },
  {
   "cell_type": "code",
   "execution_count": 179,
   "metadata": {
    "collapsed": false
   },
   "outputs": [
    {
     "name": "stdout",
     "output_type": "stream",
     "text": [
      "22\n"
     ]
    }
   ],
   "source": [
    "Nodes = []\n",
    "for a in setObjects(tree):\n",
    "    pass\n",
    "\n",
    "Leaves0 = startNodes(Nodes)\n",
    "readyNodes = [n.name for n in startNodes(Nodes)]\n",
    "print len(Nodes)"
   ]
  },
  {
   "cell_type": "code",
   "execution_count": 180,
   "metadata": {
    "collapsed": true
   },
   "outputs": [],
   "source": [
    "Leaves = []\n",
    "def setChildren(nodes):\n",
    "    if nodes is not None:\n",
    "        for node in nodes:\n",
    "            \n",
    "            \n",
    "            #CHECKING IF ALL CHILDRENS ARE READY\n",
    "            childrensReady = []\n",
    "            l = []\n",
    "            if node[\"children\"] is not None:\n",
    "                for cN in node[\"children\"]:\n",
    "                    if cN[\"name\"] in readyNodes:\n",
    "                        childrensReady.append(True)\n",
    "                        for a in Leaves0:\n",
    "                            l.append(a)\n",
    "                    else:\n",
    "                        childrensReady.append(False)\n",
    "            \n",
    "            if(False not in childrensReady and childrensReady != []):\n",
    "                print node[\"name\"]\n",
    "                \n",
    "            for child in setChildren(node['children']):\n",
    "                yield child"
   ]
  },
  {
   "cell_type": "code",
   "execution_count": 169,
   "metadata": {
    "collapsed": false
   },
   "outputs": [
    {
     "name": "stdout",
     "output_type": "stream",
     "text": [
      "T\n",
      "G\n",
      "H\n",
      "I\n"
     ]
    }
   ],
   "source": [
    "for a in setChildren(tree):\n",
    "    pass"
   ]
  },
  {
   "cell_type": "code",
   "execution_count": 143,
   "metadata": {
    "collapsed": false
   },
   "outputs": [],
   "source": []
  },
  {
   "cell_type": "code",
   "execution_count": 136,
   "metadata": {
    "collapsed": false
   },
   "outputs": [
    {
     "data": {
      "text/plain": [
       "['Q', 'S', 'U', 'V', 'F', 'O', 'P', 'M', 'N', 'K', 'L', 'J', 'D']"
      ]
     },
     "execution_count": 136,
     "metadata": {},
     "output_type": "execute_result"
    }
   ],
   "source": []
  },
  {
   "cell_type": "code",
   "execution_count": null,
   "metadata": {
    "collapsed": true
   },
   "outputs": [],
   "source": []
  }
 ],
 "metadata": {
  "kernelspec": {
   "display_name": "Python 2",
   "language": "python",
   "name": "python2"
  },
  "language_info": {
   "codemirror_mode": {
    "name": "ipython",
    "version": 2
   },
   "file_extension": ".py",
   "mimetype": "text/x-python",
   "name": "python",
   "nbconvert_exporter": "python",
   "pygments_lexer": "ipython2",
   "version": "2.7.11"
  }
 },
 "nbformat": 4,
 "nbformat_minor": 0
}
