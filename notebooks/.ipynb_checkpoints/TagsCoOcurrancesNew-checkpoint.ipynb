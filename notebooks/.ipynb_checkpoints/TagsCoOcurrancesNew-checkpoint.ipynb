{
 "cells": [
  {
   "cell_type": "code",
   "execution_count": 18,
   "metadata": {
    "collapsed": false
   },
   "outputs": [],
   "source": [
    "from matplotlib import pyplot as plt\n",
    "import numpy as np\n",
    "import pandas as pd\n",
    "import cPickle\n",
    "import pymongo\n",
    "import datetime\n",
    "\n",
    "dbBases = ['Biology','English','Finance','MathOverflow','Physics','Statistics']\n",
    "dataDir = \"/home/cesar/Desktop/Doctorado/Projects/PopulationDynamics/Hierarchies/Results/Trees/\"\n",
    "\n",
    "%matplotlib inline"
   ]
  },
  {
   "cell_type": "code",
   "execution_count": 19,
   "metadata": {
    "collapsed": false
   },
   "outputs": [
    {
     "name": "stdout",
     "output_type": "stream",
     "text": [
      "Working With  English\n"
     ]
    }
   ],
   "source": [
    "dbIndex = 1\n",
    "siteName = dbBases[dbIndex]\n",
    "print \"Working With \",siteName\n",
    "\n",
    "dbString = siteName\n",
    "\n",
    "date0 = datetime.datetime(2006,1,1)\n",
    "datef = datetime.datetime(2016,1,1)\n",
    "\n",
    "client = pymongo.MongoClient(\"129.26.78.128\",27017)\n",
    "dataBase = client[dbString]\n",
    "\n",
    "postCollections = dataBase[\"Posts{0}\".format(2013)]"
   ]
  },
  {
   "cell_type": "code",
   "execution_count": 20,
   "metadata": {
    "collapsed": true
   },
   "outputs": [],
   "source": [
    "dataPerDataBase = {}"
   ]
  },
  {
   "cell_type": "markdown",
   "metadata": {},
   "source": [
    "# Preprocessing of Tags For Tree"
   ]
  },
  {
   "cell_type": "code",
   "execution_count": 22,
   "metadata": {
    "collapsed": false
   },
   "outputs": [
    {
     "name": "stdout",
     "output_type": "stream",
     "text": [
      "Site Name  Biology\n",
      "Number of tags found:  642\n",
      "Site Name  English\n",
      "Number of tags found:  947\n",
      "Site Name  Finance\n",
      "Number of tags found:  495\n",
      "Site Name  MathOverflow\n",
      "Number of tags found:  1301\n",
      "Site Name  Physics\n",
      "Number of tags found:  824\n",
      "Site Name  Statistics\n",
      "Number of tags found:  1032\n"
     ]
    }
   ],
   "source": [
    "for dbIndex,dbString in enumerate(dbBases):\n",
    "    \n",
    "    siteName = dbBases[dbIndex]\n",
    "    print \"Site Name \",siteName\n",
    "    client[dbString].authenticate(\"Cesar\",\"gaussianprocess\")\n",
    "    dataBase = client[dbString]\n",
    "\n",
    "    #====================================================\n",
    "    Tags = []\n",
    "    Filter = False\n",
    "    for year in range(2006,2016): \n",
    "        postCollections = dataBase[\"Posts{0}\".format(year)]\n",
    "        tags = postCollections.aggregate([{\"$match\":{\"PostTypeId\":1,\n",
    "                                                     \"CreationDate\":{\"$gt\":date0,\"$lt\":datef}}\n",
    "                                          },\n",
    "                                          {\"$project\":{\"_id\":0,\"Tags\":1}}])\n",
    "        Tags.extend([t for t in tags])\n",
    "    AllTags = np.array(list(set(np.concatenate([t[\"Tags\"] for t in Tags]))))\n",
    "    AllTags.sort()\n",
    "    print \"Number of tags found: \",len(AllTags)\n",
    "    \n",
    "    #======================================================\n",
    "    tupleSets = []\n",
    "    differentTuples = []\n",
    "    fullTuples = []\n",
    "    \n",
    "    tuplesPerTag = {}\n",
    "    differentTuplesPerTag = {}\n",
    "    for i, mytag in enumerate(AllTags):\n",
    "        alpha = []\n",
    "        for year in range(2006,2016):\n",
    "            postCollections = dataBase[\"Posts{0}\".format(year)]\n",
    "            alphaTags = postCollections.aggregate([{\"$match\":{\"PostTypeId\":1,\"Tags\":{\"$in\":[mytag]}}},\n",
    "                                          {\"$project\":{\"_id\":0,\"Tags\":1}}])\n",
    "            alpha.extend([np.array(t[\"Tags\"]) for t in alphaTags])\n",
    "        for a in alpha:\n",
    "            a.sort()\n",
    "        differentStrings = [\"|\".join(map(str,np.where(np.in1d(AllTags,a) == True)[0])) \n",
    "                        for a in alpha]    \n",
    "        tuplesArray = list(set(differentStrings))\n",
    "        fullTuples.extend(tuplesArray)\n",
    "        tuplesPerTag[mytag] = len(differentStrings)\n",
    "        differentTuplesPerTag[mytag] = len(tuplesArray)\n",
    "    \n",
    "    dataPerDataBase[dbString] = (AllTags,tuplesPerTag,\n",
    "                                 differentTuplesPerTag,len(list(set(fullTuples))))\n",
    "    #==========================================================\n",
    "    "
   ]
  },
  {
   "cell_type": "markdown",
   "metadata": {},
   "source": [
    "# Record Statistics"
   ]
  },
  {
   "cell_type": "code",
   "execution_count": 23,
   "metadata": {
    "collapsed": true
   },
   "outputs": [],
   "source": [
    "resultsDir = \"/home/cesar/Desktop/Doctorado/Projects/PopulationDynamics/Hierarchies/Results/BasicCooccurraceStats/\""
   ]
  },
  {
   "cell_type": "code",
   "execution_count": 24,
   "metadata": {
    "collapsed": false
   },
   "outputs": [],
   "source": [
    "cPickle.dump(dataPerDataBase,\n",
    "             open(resultsDir+\"coOccurranceStats.cpickle\",\"w\"))"
   ]
  },
  {
   "cell_type": "code",
   "execution_count": null,
   "metadata": {
    "collapsed": true
   },
   "outputs": [],
   "source": []
  }
 ],
 "metadata": {
  "kernelspec": {
   "display_name": "Python 2",
   "language": "python",
   "name": "python2"
  },
  "language_info": {
   "codemirror_mode": {
    "name": "ipython",
    "version": 2
   },
   "file_extension": ".py",
   "mimetype": "text/x-python",
   "name": "python",
   "nbconvert_exporter": "python",
   "pygments_lexer": "ipython2",
   "version": "2.7.12"
  }
 },
 "nbformat": 4,
 "nbformat_minor": 0
}
