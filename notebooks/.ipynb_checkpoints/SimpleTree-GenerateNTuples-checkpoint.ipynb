{
 "cells": [
  {
   "cell_type": "code",
   "execution_count": 1,
   "metadata": {
    "collapsed": true
   },
   "outputs": [],
   "source": [
    "import numpy as np\n",
    "import pandas as pd\n",
    "import json\n",
    "import os\n",
    "import copy\n",
    "from itertools import chain"
   ]
  },
  {
   "cell_type": "code",
   "execution_count": 2,
   "metadata": {
    "collapsed": false
   },
   "outputs": [],
   "source": [
    "tree = [{\"name\":\"A\",\n",
    "        \"children\":[{\"name\":\"B\",\"children\":[{\"name\":\"E\",\"children\":[{\"name\":\"Q\",\"children\":None},\n",
    "                                                                    {\"name\":\"R\",\"children\":[{\"name\":\"S\",\"children\":None},\n",
    "                                                                                            {\"name\":\"T\",\"children\":[{\"name\":\"U\",\"children\":None},\n",
    "                                                                                                                    {\"name\":\"V\",\"children\":None}]}]}]},\n",
    "                                            {\"name\":\"F\",\"children\":None},\n",
    "                                            {\"name\":\"G\",\"children\":[{\"name\":\"O\",\"children\":None},{\"name\":\"P\",\"children\":None}]}]},\n",
    "                    {\"name\":\"C\",\"children\":[{\"name\":\"H\",\"children\":[{\"name\":\"M\",\"children\":None},\n",
    "                                                                    {\"name\":\"N\",\"children\":None}]},\n",
    "                                            {\"name\":\"I\",\"children\":[{\"name\":\"K\",\"children\":None},\n",
    "                                                                    {\"name\":\"L\",\"children\":None}]},\n",
    "                                            {\"name\":\"J\",\"children\":None}]},\n",
    "                   {\"name\":\"D\",\"children\":None}]}]\n",
    "json.dump(tree[0],open(\"../visualization/myTree.json\",\"w\"))"
   ]
  },
  {
   "cell_type": "markdown",
   "metadata": {},
   "source": [
    "# Store All Branches"
   ]
  },
  {
   "cell_type": "code",
   "execution_count": 3,
   "metadata": {
    "collapsed": true
   },
   "outputs": [],
   "source": [
    "class myTree:\n",
    "    def __init__(self,name,children=None,childrenSet=False):\n",
    "        self.name = name\n",
    "        self.children = children\n",
    "        self.myBranch = []\n",
    "        self.childrenSet = childrenSet "
   ]
  },
  {
   "cell_type": "code",
   "execution_count": 4,
   "metadata": {
    "collapsed": false
   },
   "outputs": [],
   "source": [
    "def myDf(nodes,Leaves):\n",
    "    if nodes is not None:\n",
    "        for node in nodes:\n",
    "            print \"node name \", node[\"name\"]\n",
    "            if(node[\"children\"] == None):\n",
    "                Leaves.append(node[\"name\"])\n",
    "            yield node\n",
    "            for child in myDf(node['children'],Leaves):\n",
    "                yield child\n",
    "\n",
    "def setObjects(nodes,Nodes):\n",
    "    \"\"\"\n",
    "    Define intial set of nodes which have empty children\n",
    "    \"\"\"\n",
    "    if nodes is not None:\n",
    "        for node in nodes:\n",
    "            if(node[\"children\"]==None):\n",
    "                Nodes.append(myTree(node[\"name\"],childrenSet=True))\n",
    "            else:\n",
    "                Nodes.append(myTree(node[\"name\"]))\n",
    "            yield node\n",
    "            for child in setObjects(node['children'],Nodes):\n",
    "                yield child\n",
    "                \n",
    "def startNodes(Nodes):\n",
    "    toIntegrate = [node for node in Nodes if node.childrenSet==True]\n",
    "    return toIntegrate\n",
    "\n",
    "def setChildren(nodes):\n",
    "    if nodes is not None:\n",
    "        for node in nodes:\n",
    "            \n",
    "            #CHECKING IF ALL CHILDRENS ARE READY=================\n",
    "            childrensReady = []\n",
    "            l = []\n",
    "            if node[\"children\"] is not None:\n",
    "                for cN in node[\"children\"]:\n",
    "                    if cN[\"name\"] in readyNodesStrings0:\n",
    "                        childrensReady.append(True)\n",
    "                        for a in readyNodes0:\n",
    "                            if a.name == cN[\"name\"]:\n",
    "                                l.append(a)\n",
    "                    else:\n",
    "                        childrensReady.append(False)\n",
    "            #=====================================================\n",
    "            \n",
    "            \n",
    "            #HERE WE JOIN KNOWING THAT ALL CHILDRENS ARE READY\n",
    "            if(False not in childrensReady and childrensReady != []):\n",
    "                print node[\"name\"]\n",
    "                readyNodes.append(myTree(node[\"name\"],l[:],childrenSet=True))\n",
    "                readyNodesStrings.append(node[\"name\"])\n",
    "                joined.extend([n[\"name\"] for n in node[\"children\"]])\n",
    "                print joined\n",
    "        \n",
    "            #HERE WE KEEP SINCE IT WAS READY BEFORE\n",
    "            elif(node[\"name\"] in readyNodesStrings0 and node[\"name\"] not in joined):\n",
    "                for a in readyNodes0:\n",
    "                    if a.name == node[\"name\"]:\n",
    "                        readyNodesStrings.append(node[\"name\"])\n",
    "                        readyNodes.append(a)\n",
    "            for child in setChildren(node['children']):\n",
    "                yield child"
   ]
  },
  {
   "cell_type": "markdown",
   "metadata": {},
   "source": [
    "# Full Set Of Objects"
   ]
  },
  {
   "cell_type": "code",
   "execution_count": 5,
   "metadata": {
    "collapsed": false,
    "scrolled": false
   },
   "outputs": [
    {
     "name": "stdout",
     "output_type": "stream",
     "text": [
      "T\n",
      "['U', 'V']\n",
      "G\n",
      "['U', 'V', 'O', 'P']\n",
      "H\n",
      "['U', 'V', 'O', 'P', 'M', 'N']\n",
      "I\n",
      "['U', 'V', 'O', 'P', 'M', 'N', 'K', 'L']\n",
      "R\n",
      "['S', 'T']\n",
      "C\n",
      "['S', 'T', 'H', 'I', 'J']\n",
      "E\n",
      "['Q', 'R']\n",
      "B\n",
      "['E', 'F', 'G']\n",
      "A\n",
      "['B', 'C', 'D']\n"
     ]
    }
   ],
   "source": [
    "Nodes = []\n",
    "for a in setObjects(tree,Nodes):\n",
    "    pass\n",
    "\n",
    "Nodes0 = Nodes[:]\n",
    "readyNodes0 = startNodes(Nodes)\n",
    "readyNodesStrings0 = [n.name for n in startNodes(Nodes)]\n",
    "\n",
    "while len(readyNodes0) != 1:\n",
    "    readyNodes = []\n",
    "    readyNodesStrings = []\n",
    "    joined = []\n",
    "    for a in setChildren(tree):\n",
    "        pass\n",
    "\n",
    "    readyNodes0 = readyNodes[:]\n",
    "    readyNodesStrings0 = readyNodesStrings[:]"
   ]
  },
  {
   "cell_type": "markdown",
   "metadata": {
    "collapsed": false
   },
   "source": [
    "# Reverse Task"
   ]
  },
  {
   "cell_type": "code",
   "execution_count": 8,
   "metadata": {
    "collapsed": true
   },
   "outputs": [],
   "source": [
    "def setDictionary(nodes,initialDict,initialNames):\n",
    "    if nodes is not None:\n",
    "        for node in nodes:\n",
    "            if node.children == None:\n",
    "                initialDict.append({\"name\":node.name,\"children\":node.children})\n",
    "                initialNames.append(node.name)\n",
    "            for child in setDictionary(node.children,initialDict,initialNames):\n",
    "                yield child"
   ]
  },
  {
   "cell_type": "code",
   "execution_count": 9,
   "metadata": {
    "collapsed": false
   },
   "outputs": [],
   "source": [
    "joined = []\n",
    "initialDict = []\n",
    "initialNames = []\n",
    "def fillDictionary(nodes):\n",
    "    if nodes is not None:\n",
    "        for node in nodes:\n",
    "            try:\n",
    "                numberOfChildren = len(set(node.children))\n",
    "                childrenNames = [a.name for a in node.children]\n",
    "                if len(set(childrenNames).intersection(set(initialNames0))) == numberOfChildren:\n",
    "                    print node.name\n",
    "                \n",
    "                    thisDict = []\n",
    "                    for nodeDict in initialDict0:\n",
    "                        if nodeDict[\"name\"] in childrenNames:\n",
    "                            thisDict.append(nodeDict)\n",
    "\n",
    "                    initialDict.append({\"name\":node.name,\"children\":thisDict})\n",
    "                    initialNames.append(node.name)\n",
    "                    joined.extend(childrenNames)\n",
    "                elif(node.name in initialNames0 and node[\"name\"] not in joined):\n",
    "                    for nodeDict in initialDict0:\n",
    "                        if nodeDict[\"name\"] == node.name:\n",
    "                            initialDict.append(nodeDict)\n",
    "                            initialNames.append(node.name)\n",
    "            except:\n",
    "                if(node.name in initialNames0 and node.name not in joined):\n",
    "                    for nodeDict in initialDict0:\n",
    "                        if nodeDict[\"name\"] == node.name:\n",
    "                            initialDict.append(nodeDict)\n",
    "                            initialNames.append(node.name)\n",
    "                yield node\n",
    "            for child in fillDictionary(node.children):\n",
    "                yield child"
   ]
  },
  {
   "cell_type": "code",
   "execution_count": 10,
   "metadata": {
    "collapsed": false,
    "scrolled": true
   },
   "outputs": [],
   "source": []
  },
  {
   "cell_type": "code",
   "execution_count": 17,
   "metadata": {
    "collapsed": false
   },
   "outputs": [
    {
     "name": "stdout",
     "output_type": "stream",
     "text": [
      "T\n",
      "G\n",
      "H\n",
      "I\n"
     ]
    },
    {
     "ename": "KeyboardInterrupt",
     "evalue": "",
     "output_type": "error",
     "traceback": [
      "\u001b[1;31m---------------------------------------------------------------------------\u001b[0m",
      "\u001b[1;31mKeyboardInterrupt\u001b[0m                         Traceback (most recent call last)",
      "\u001b[1;32m<ipython-input-17-f2de436622f7>\u001b[0m in \u001b[0;36m<module>\u001b[1;34m()\u001b[0m\n\u001b[0;32m      8\u001b[0m     \u001b[0minitialDict\u001b[0m \u001b[1;33m=\u001b[0m \u001b[1;33m[\u001b[0m\u001b[1;33m]\u001b[0m\u001b[1;33m\u001b[0m\u001b[0m\n\u001b[0;32m      9\u001b[0m     \u001b[0minitialNames\u001b[0m \u001b[1;33m=\u001b[0m \u001b[1;33m[\u001b[0m\u001b[1;33m]\u001b[0m\u001b[1;33m\u001b[0m\u001b[0m\n\u001b[1;32m---> 10\u001b[1;33m     \u001b[1;32mfor\u001b[0m \u001b[0ma\u001b[0m \u001b[1;32min\u001b[0m \u001b[0mfillDictionary\u001b[0m\u001b[1;33m(\u001b[0m\u001b[0mreadyNodes\u001b[0m\u001b[1;33m)\u001b[0m\u001b[1;33m:\u001b[0m\u001b[1;33m\u001b[0m\u001b[0m\n\u001b[0m\u001b[0;32m     11\u001b[0m         \u001b[1;32mpass\u001b[0m\u001b[1;33m\u001b[0m\u001b[0m\n\u001b[0;32m     12\u001b[0m     \u001b[0minitialDict0\u001b[0m \u001b[1;33m=\u001b[0m \u001b[0minitialDict\u001b[0m\u001b[1;33m[\u001b[0m\u001b[1;33m:\u001b[0m\u001b[1;33m]\u001b[0m\u001b[1;33m\u001b[0m\u001b[0m\n",
      "\u001b[1;32m<ipython-input-9-f7f83af3ccc1>\u001b[0m in \u001b[0;36mfillDictionary\u001b[1;34m(nodes)\u001b[0m\n\u001b[0;32m     31\u001b[0m                             \u001b[0minitialNames\u001b[0m\u001b[1;33m.\u001b[0m\u001b[0mappend\u001b[0m\u001b[1;33m(\u001b[0m\u001b[0mnode\u001b[0m\u001b[1;33m.\u001b[0m\u001b[0mname\u001b[0m\u001b[1;33m)\u001b[0m\u001b[1;33m\u001b[0m\u001b[0m\n\u001b[0;32m     32\u001b[0m                 \u001b[1;32myield\u001b[0m \u001b[0mnode\u001b[0m\u001b[1;33m\u001b[0m\u001b[0m\n\u001b[1;32m---> 33\u001b[1;33m             \u001b[1;32mfor\u001b[0m \u001b[0mchild\u001b[0m \u001b[1;32min\u001b[0m \u001b[0mfillDictionary\u001b[0m\u001b[1;33m(\u001b[0m\u001b[0mnode\u001b[0m\u001b[1;33m.\u001b[0m\u001b[0mchildren\u001b[0m\u001b[1;33m)\u001b[0m\u001b[1;33m:\u001b[0m\u001b[1;33m\u001b[0m\u001b[0m\n\u001b[0m\u001b[0;32m     34\u001b[0m                 \u001b[1;32myield\u001b[0m \u001b[0mchild\u001b[0m\u001b[1;33m\u001b[0m\u001b[0m\n",
      "\u001b[1;32m<ipython-input-9-f7f83af3ccc1>\u001b[0m in \u001b[0;36mfillDictionary\u001b[1;34m(nodes)\u001b[0m\n\u001b[0;32m     31\u001b[0m                             \u001b[0minitialNames\u001b[0m\u001b[1;33m.\u001b[0m\u001b[0mappend\u001b[0m\u001b[1;33m(\u001b[0m\u001b[0mnode\u001b[0m\u001b[1;33m.\u001b[0m\u001b[0mname\u001b[0m\u001b[1;33m)\u001b[0m\u001b[1;33m\u001b[0m\u001b[0m\n\u001b[0;32m     32\u001b[0m                 \u001b[1;32myield\u001b[0m \u001b[0mnode\u001b[0m\u001b[1;33m\u001b[0m\u001b[0m\n\u001b[1;32m---> 33\u001b[1;33m             \u001b[1;32mfor\u001b[0m \u001b[0mchild\u001b[0m \u001b[1;32min\u001b[0m \u001b[0mfillDictionary\u001b[0m\u001b[1;33m(\u001b[0m\u001b[0mnode\u001b[0m\u001b[1;33m.\u001b[0m\u001b[0mchildren\u001b[0m\u001b[1;33m)\u001b[0m\u001b[1;33m:\u001b[0m\u001b[1;33m\u001b[0m\u001b[0m\n\u001b[0m\u001b[0;32m     34\u001b[0m                 \u001b[1;32myield\u001b[0m \u001b[0mchild\u001b[0m\u001b[1;33m\u001b[0m\u001b[0m\n",
      "\u001b[1;32m<ipython-input-9-f7f83af3ccc1>\u001b[0m in \u001b[0;36mfillDictionary\u001b[1;34m(nodes)\u001b[0m\n\u001b[0;32m     31\u001b[0m                             \u001b[0minitialNames\u001b[0m\u001b[1;33m.\u001b[0m\u001b[0mappend\u001b[0m\u001b[1;33m(\u001b[0m\u001b[0mnode\u001b[0m\u001b[1;33m.\u001b[0m\u001b[0mname\u001b[0m\u001b[1;33m)\u001b[0m\u001b[1;33m\u001b[0m\u001b[0m\n\u001b[0;32m     32\u001b[0m                 \u001b[1;32myield\u001b[0m \u001b[0mnode\u001b[0m\u001b[1;33m\u001b[0m\u001b[0m\n\u001b[1;32m---> 33\u001b[1;33m             \u001b[1;32mfor\u001b[0m \u001b[0mchild\u001b[0m \u001b[1;32min\u001b[0m \u001b[0mfillDictionary\u001b[0m\u001b[1;33m(\u001b[0m\u001b[0mnode\u001b[0m\u001b[1;33m.\u001b[0m\u001b[0mchildren\u001b[0m\u001b[1;33m)\u001b[0m\u001b[1;33m:\u001b[0m\u001b[1;33m\u001b[0m\u001b[0m\n\u001b[0m\u001b[0;32m     34\u001b[0m                 \u001b[1;32myield\u001b[0m \u001b[0mchild\u001b[0m\u001b[1;33m\u001b[0m\u001b[0m\n",
      "\u001b[1;32m<ipython-input-9-f7f83af3ccc1>\u001b[0m in \u001b[0;36mfillDictionary\u001b[1;34m(nodes)\u001b[0m\n\u001b[0;32m     31\u001b[0m                             \u001b[0minitialNames\u001b[0m\u001b[1;33m.\u001b[0m\u001b[0mappend\u001b[0m\u001b[1;33m(\u001b[0m\u001b[0mnode\u001b[0m\u001b[1;33m.\u001b[0m\u001b[0mname\u001b[0m\u001b[1;33m)\u001b[0m\u001b[1;33m\u001b[0m\u001b[0m\n\u001b[0;32m     32\u001b[0m                 \u001b[1;32myield\u001b[0m \u001b[0mnode\u001b[0m\u001b[1;33m\u001b[0m\u001b[0m\n\u001b[1;32m---> 33\u001b[1;33m             \u001b[1;32mfor\u001b[0m \u001b[0mchild\u001b[0m \u001b[1;32min\u001b[0m \u001b[0mfillDictionary\u001b[0m\u001b[1;33m(\u001b[0m\u001b[0mnode\u001b[0m\u001b[1;33m.\u001b[0m\u001b[0mchildren\u001b[0m\u001b[1;33m)\u001b[0m\u001b[1;33m:\u001b[0m\u001b[1;33m\u001b[0m\u001b[0m\n\u001b[0m\u001b[0;32m     34\u001b[0m                 \u001b[1;32myield\u001b[0m \u001b[0mchild\u001b[0m\u001b[1;33m\u001b[0m\u001b[0m\n",
      "\u001b[1;32m<ipython-input-9-f7f83af3ccc1>\u001b[0m in \u001b[0;36mfillDictionary\u001b[1;34m(nodes)\u001b[0m\n\u001b[0;32m      3\u001b[0m \u001b[0minitialNames\u001b[0m \u001b[1;33m=\u001b[0m \u001b[1;33m[\u001b[0m\u001b[1;33m]\u001b[0m\u001b[1;33m\u001b[0m\u001b[0m\n\u001b[0;32m      4\u001b[0m \u001b[1;32mdef\u001b[0m \u001b[0mfillDictionary\u001b[0m\u001b[1;33m(\u001b[0m\u001b[0mnodes\u001b[0m\u001b[1;33m)\u001b[0m\u001b[1;33m:\u001b[0m\u001b[1;33m\u001b[0m\u001b[0m\n\u001b[1;32m----> 5\u001b[1;33m     \u001b[1;32mif\u001b[0m \u001b[0mnodes\u001b[0m \u001b[1;32mis\u001b[0m \u001b[1;32mnot\u001b[0m \u001b[0mNone\u001b[0m\u001b[1;33m:\u001b[0m\u001b[1;33m\u001b[0m\u001b[0m\n\u001b[0m\u001b[0;32m      6\u001b[0m         \u001b[1;32mfor\u001b[0m \u001b[0mnode\u001b[0m \u001b[1;32min\u001b[0m \u001b[0mnodes\u001b[0m\u001b[1;33m:\u001b[0m\u001b[1;33m\u001b[0m\u001b[0m\n\u001b[0;32m      7\u001b[0m             \u001b[1;32mtry\u001b[0m\u001b[1;33m:\u001b[0m\u001b[1;33m\u001b[0m\u001b[0m\n",
      "\u001b[1;31mKeyboardInterrupt\u001b[0m: "
     ]
    }
   ],
   "source": [
    "initialDict0 = []\n",
    "initialNames0 = []\n",
    "\n",
    "for a in setDictionary(readyNodes,initialDict0,initialNames0):\n",
    "    pass\n",
    "\n",
    "while len(initialDict0) != 1:\n",
    "    joined = []\n",
    "    initialDict = []\n",
    "    initialNames = []\n",
    "    for a in fillDictionary(readyNodes):\n",
    "        pass\n",
    "    initialDict0 = initialDict[:]\n",
    "    initialNames0 = initialNames[:]"
   ]
  },
  {
   "cell_type": "code",
   "execution_count": 16,
   "metadata": {
    "collapsed": false
   },
   "outputs": [],
   "source": [
    "json.dump(initialDict[0],open(\"../visualization/myTree2.json\",\"w\"))"
   ]
  },
  {
   "cell_type": "markdown",
   "metadata": {},
   "source": [
    "# Set Branches"
   ]
  },
  {
   "cell_type": "code",
   "execution_count": 157,
   "metadata": {
    "collapsed": true
   },
   "outputs": [],
   "source": [
    "def transverseTree(nodes):\n",
    "    if nodes is not None:\n",
    "        for node in nodes:\n",
    "            yield node\n",
    "            for child in transverseTree(node.children):\n",
    "                yield child"
   ]
  },
  {
   "cell_type": "code",
   "execution_count": 150,
   "metadata": {
    "collapsed": true
   },
   "outputs": [],
   "source": [
    "def setNames(nodes,someList):\n",
    "    if nodes is not None:\n",
    "        for node in nodes:\n",
    "            someList.append(node.name)\n",
    "            yield node\n",
    "            for child in setNames(node.children,someList):\n",
    "                yield child"
   ]
  },
  {
   "cell_type": "code",
   "execution_count": 147,
   "metadata": {
    "collapsed": true
   },
   "outputs": [],
   "source": [
    "def setBranch(nodes):\n",
    "    if nodes is not None:\n",
    "        for node in nodes:\n",
    "            try:\n",
    "                nodeChildrens = [n.name for n in node.children]\n",
    "                branch = node.myBranch[:]\n",
    "                branch.append(node.name)\n",
    "                for n in node.children:\n",
    "                    n.myBranch.extend(branch)\n",
    "            except:\n",
    "                pass\n",
    "            yield node\n",
    "            for child in setBranch(node.children):\n",
    "                yield child"
   ]
  },
  {
   "cell_type": "code",
   "execution_count": 148,
   "metadata": {
    "collapsed": false
   },
   "outputs": [],
   "source": [
    "for a in setBranch(readyNodes):\n",
    "    pass"
   ]
  },
  {
   "cell_type": "code",
   "execution_count": 152,
   "metadata": {
    "collapsed": false,
    "scrolled": true
   },
   "outputs": [
    {
     "name": "stdout",
     "output_type": "stream",
     "text": [
      "A\n",
      "[]\n",
      "B\n",
      "['A']\n",
      "E\n",
      "['A', 'B']\n",
      "Q\n",
      "['A', 'B', 'E']\n",
      "R\n",
      "['A', 'B', 'E']\n",
      "S\n",
      "['A', 'B', 'E', 'R']\n",
      "T\n",
      "['A', 'B', 'E', 'R']\n",
      "U\n",
      "['A', 'B', 'E', 'R', 'T']\n",
      "V\n",
      "['A', 'B', 'E', 'R', 'T']\n",
      "F\n",
      "['A', 'B']\n",
      "G\n",
      "['A', 'B']\n",
      "O\n",
      "['A', 'B', 'G']\n",
      "P\n",
      "['A', 'B', 'G']\n",
      "C\n",
      "['A']\n",
      "H\n",
      "['A', 'C']\n",
      "M\n",
      "['A', 'C', 'H']\n",
      "N\n",
      "['A', 'C', 'H']\n",
      "I\n",
      "['A', 'C']\n",
      "K\n",
      "['A', 'C', 'I']\n",
      "L\n",
      "['A', 'C', 'I']\n",
      "J\n",
      "['A', 'C']\n",
      "D\n",
      "['A']\n"
     ]
    }
   ],
   "source": [
    "for a in transverseTree(readyNodes):\n",
    "    pass\n",
    "\n",
    "namesList = []\n",
    "for a in setNames(readyNodes,namesList):\n",
    "    pass"
   ]
  },
  {
   "cell_type": "code",
   "execution_count": 153,
   "metadata": {
    "collapsed": false
   },
   "outputs": [
    {
     "data": {
      "text/plain": [
       "['A',\n",
       " 'B',\n",
       " 'E',\n",
       " 'Q',\n",
       " 'R',\n",
       " 'S',\n",
       " 'T',\n",
       " 'U',\n",
       " 'V',\n",
       " 'F',\n",
       " 'G',\n",
       " 'O',\n",
       " 'P',\n",
       " 'C',\n",
       " 'H',\n",
       " 'M',\n",
       " 'N',\n",
       " 'I',\n",
       " 'K',\n",
       " 'L',\n",
       " 'J',\n",
       " 'D']"
      ]
     },
     "execution_count": 153,
     "metadata": {},
     "output_type": "execute_result"
    }
   ],
   "source": [
    "namesList"
   ]
  },
  {
   "cell_type": "markdown",
   "metadata": {},
   "source": [
    "# Generate Tuples"
   ]
  },
  {
   "cell_type": "code",
   "execution_count": 158,
   "metadata": {
    "collapsed": true
   },
   "outputs": [],
   "source": [
    "from random import choice,sample"
   ]
  },
  {
   "cell_type": "code",
   "execution_count": 172,
   "metadata": {
    "collapsed": false,
    "scrolled": false
   },
   "outputs": [
    {
     "name": "stdout",
     "output_type": "stream",
     "text": [
      "choice O\n",
      "['A', 'B', 'G']\n",
      "choice S\n",
      "['A', 'B', 'E', 'R']\n",
      "choice I\n",
      "['A', 'C']\n",
      "choice D\n",
      "['A']\n",
      "choice S\n",
      "['A', 'B', 'E', 'R']\n",
      "choice U\n",
      "['A', 'B', 'E', 'R', 'T']\n",
      "choice C\n",
      "['A']\n",
      "choice H\n",
      "['A', 'C']\n",
      "choice N\n",
      "['A', 'C', 'H']\n",
      "choice V\n",
      "['A', 'B', 'E', 'R', 'T']\n",
      "choice C\n",
      "['A']\n",
      "choice H\n",
      "['A', 'C']\n",
      "choice L\n",
      "['A', 'C', 'I']\n",
      "choice S\n",
      "['A', 'B', 'E', 'R']\n",
      "choice R\n",
      "['A', 'B', 'E']\n",
      "choice Q\n",
      "['A', 'B', 'E']\n",
      "choice L\n",
      "['A', 'C', 'I']\n",
      "choice B\n",
      "['A']\n",
      "choice J\n",
      "['A', 'C']\n",
      "choice G\n",
      "['A', 'B']\n",
      "choice K\n",
      "['A', 'C', 'I']\n",
      "choice H\n",
      "['A', 'C']\n",
      "choice L\n",
      "['A', 'C', 'I']\n",
      "choice Q\n",
      "['A', 'B', 'E']\n",
      "choice L\n",
      "['A', 'C', 'I']\n",
      "choice U\n",
      "['A', 'B', 'E', 'R', 'T']\n",
      "choice P\n",
      "['A', 'B', 'G']\n",
      "choice I\n",
      "['A', 'C']\n",
      "choice O\n",
      "['A', 'B', 'G']\n",
      "choice U\n",
      "['A', 'B', 'E', 'R', 'T']\n"
     ]
    }
   ],
   "source": [
    "numberOfTuples = 30\n",
    "ntuples = []\n",
    "for ik in range(numberOfTuples):\n",
    "    #TRANSVERSE TREE\n",
    "    selectedNode = choice(namesList)\n",
    "    print \"choice\",selectedNode\n",
    "    for a in transverseTree(readyNodes):\n",
    "        if a.name == selectedNode:\n",
    "            print a.myBranch\n",
    "            ntuples.append(sample(a.myBranch,np.random.randint(0,len(a.myBranch))))"
   ]
  },
  {
   "cell_type": "code",
   "execution_count": 174,
   "metadata": {
    "collapsed": false
   },
   "outputs": [
    {
     "data": {
      "text/plain": [
       "30"
      ]
     },
     "execution_count": 174,
     "metadata": {},
     "output_type": "execute_result"
    }
   ],
   "source": [
    "len(ntuples)"
   ]
  },
  {
   "cell_type": "code",
   "execution_count": 165,
   "metadata": {
    "collapsed": false
   },
   "outputs": [
    {
     "data": {
      "text/plain": [
       "68"
      ]
     },
     "execution_count": 165,
     "metadata": {},
     "output_type": "execute_result"
    }
   ],
   "source": []
  },
  {
   "cell_type": "code",
   "execution_count": null,
   "metadata": {
    "collapsed": true
   },
   "outputs": [],
   "source": []
  }
 ],
 "metadata": {
  "kernelspec": {
   "display_name": "Python 2",
   "language": "python",
   "name": "python2"
  },
  "language_info": {
   "codemirror_mode": {
    "name": "ipython",
    "version": 2
   },
   "file_extension": ".py",
   "mimetype": "text/x-python",
   "name": "python",
   "nbconvert_exporter": "python",
   "pygments_lexer": "ipython2",
   "version": "2.7.11"
  }
 },
 "nbformat": 4,
 "nbformat_minor": 0
}
