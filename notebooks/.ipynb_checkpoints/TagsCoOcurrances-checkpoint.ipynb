{
 "cells": [
  {
   "cell_type": "code",
   "execution_count": 5,
   "metadata": {
    "collapsed": false
   },
   "outputs": [],
   "source": [
    "from matplotlib import pyplot as plt\n",
    "import numpy as np\n",
    "import pandas as pd\n",
    "import cPickle\n",
    "import pymongo\n",
    "import datetime\n",
    "\n",
    "\n",
    "dbBases = ['Biology','English','Finance','MathOverflow','Physics','Statistics']\n",
    "dataDir = \"/home/cesar/Desktop/Doctorado/Projects/PopulationDynamics/Hierarchies/Results/Trees/\"\n",
    "\n",
    "%matplotlib inline"
   ]
  },
  {
   "cell_type": "code",
   "execution_count": 9,
   "metadata": {
    "collapsed": false
   },
   "outputs": [
    {
     "name": "stdout",
     "output_type": "stream",
     "text": [
      "Working With  English\n"
     ]
    }
   ],
   "source": [
    "dbIndex = 1\n",
    "siteName = dbBases[dbIndex]\n",
    "print \"Working With \",siteName\n",
    "\n",
    "dbString = siteName\n",
    "date0 = datetime.datetime(2006,1,1)\n",
    "datef = datetime.datetime(2016,1,1)\n",
    "\n",
    "client = pymongo.MongoClient(\"129.26.78.128\",27017)\n",
    "\n",
    "dbIndex = 1\n",
    "siteName = dbBases[dbIndex]\n",
    "client[dbString].authenticate(\"Cesar\",\"gaussianprocess\")\n",
    "dataBase = client[dbString]\n",
    "postCollections = dataBase[\"Posts{0}\".format(2013)]"
   ]
  },
  {
   "cell_type": "code",
   "execution_count": 10,
   "metadata": {
    "collapsed": false,
    "scrolled": true
   },
   "outputs": [
    {
     "data": {
      "text/plain": [
       "[u'prefixes']"
      ]
     },
     "execution_count": 10,
     "metadata": {},
     "output_type": "execute_result"
    }
   ],
   "source": [
    "postCollections.find_one({'PostTypeId':1})['Tags']"
   ]
  },
  {
   "cell_type": "code",
   "execution_count": 11,
   "metadata": {
    "collapsed": false,
    "scrolled": true
   },
   "outputs": [
    {
     "name": "stdout",
     "output_type": "stream",
     "text": [
      "Number of tags found:  661\n"
     ]
    },
    {
     "data": {
      "text/plain": [
       "array([u'aave', u'abbreviations', u'ablaut', u'able-eable', u'above-below',\n",
       "       u'abstract-nouns', u'accent', u'acronyms', u'active-voice',\n",
       "       u'adjectives', u'adjunct', u'adverb-position', u'adverbs',\n",
       "       u'affixes', u'agent-noun-suffix', u'agent-nouns', u'agreement',\n",
       "       u'aint', u'all-of', u'all-the', u'alphabet', u'also-too',\n",
       "       u'alternative', u'ambiguity', u'american-english', u'among-between',\n",
       "       u'analogy', u'and-and', u'and-or', u'anglicization', u'animal',\n",
       "       u'antecedents', u'antimeria', u'antipodean-english', u'antonyms',\n",
       "       u'any-every', u'aphorism', u'apostrophe', u'appositives',\n",
       "       u'appropriate', u'archaic', u'argument-structure', u'articles',\n",
       "       u'as-like', u'aspect', u'aspiration', u'at-by', u'at-in', u'at-on',\n",
       "       u'australian-english', u'auto-antonyms', u'auxiliary-verbs',\n",
       "       u'backshifting', u'bare-conditional', u'bare-infinitive', u'be',\n",
       "       u'be-deletion', u'best-most', u'blending', u'book-title', u'books',\n",
       "       u'braces', u'brands', u'british-dialect', u'british-english',\n",
       "       u'business-language', u'buzzword', u'can-could', u'can-may',\n",
       "       u'can-vs-be-able', u'canadian-english', u'capitalization',\n",
       "       u'caribbean-english', u'case', u'catachresis', u'catch-phrases',\n",
       "       u'category', u'christmas', u'cinema', u'citation',\n",
       "       u'class-based-usage', u'clauses', u'cliche', u'collective-nouns',\n",
       "       u'collocation', u'colloquialisms', u'colon', u'colors', u'comma',\n",
       "       u'comma-before-and', u'comma-splices', u'commands',\n",
       "       u'common-pronunciation', u'commonweath-english', u'comparative',\n",
       "       u'comparison', u'complement', u'complex-sentences', u'compliment',\n",
       "       u'compound-adjectives'], \n",
       "      dtype='<U25')"
      ]
     },
     "execution_count": 11,
     "metadata": {},
     "output_type": "execute_result"
    }
   ],
   "source": [
    "specificTags = ['classical-mechanics']\n",
    "Filter = False\n",
    "if Filter:\n",
    "    tags = postCollections.aggregate([{\"$match\":{\"PostTypeId\":1,\n",
    "                                                 \"CreationDate\":{\"$gt\":date0,\"$lt\":datef},\n",
    "                                                 \"Tags\":{\"$in\":specificTags}}\n",
    "                                      },\n",
    "                                      {\"$project\":{\"_id\":0,\"Tags\":1}}])\n",
    "else:\n",
    "    tags = postCollections.aggregate([{\"$match\":{\"PostTypeId\":1,\n",
    "                                                 \"CreationDate\":{\"$gt\":date0,\"$lt\":datef}}\n",
    "                                      },\n",
    "                                      {\"$project\":{\"_id\":0,\"Tags\":1}}])\n",
    "\n",
    "AllTags = np.array(list(set(np.concatenate([t[\"Tags\"] for t in tags]))))\n",
    "AllTags.sort()\n",
    "print \"Number of tags found: \",len(AllTags)\n",
    "AllTags[:100]"
   ]
  },
  {
   "cell_type": "code",
   "execution_count": 22,
   "metadata": {
    "collapsed": false
   },
   "outputs": [
    {
     "data": {
      "text/plain": [
       "u'aave'"
      ]
     },
     "execution_count": 22,
     "metadata": {},
     "output_type": "execute_result"
    }
   ],
   "source": [
    "AllTags[0]"
   ]
  },
  {
   "cell_type": "code",
   "execution_count": 23,
   "metadata": {
    "collapsed": false
   },
   "outputs": [],
   "source": [
    "#OBTAIN TUPLE SET\n",
    "alphaTags = postCollections.aggregate([{\"$match\":{\"PostTypeId\":1,\"Tags\":{\"$in\":['comparison']}}},\n",
    "                                      {\"$project\":{\"_id\":0,\"Tags\":1}}])\n"
   ]
  },
  {
   "cell_type": "code",
   "execution_count": 24,
   "metadata": {
    "collapsed": false
   },
   "outputs": [
    {
     "name": "stdout",
     "output_type": "stream",
     "text": [
      "['95|320', '95|222|547|648', '95', '95|226', '85|95|112|199|547', '95|226|359', '24|95|262', '95|137', '95|151|486', '95', '95|184|334', '9|95|653', '94|95', '95|184', '22|95|521|621', '95|179', '95|226', '95|132', '95', '95|151|653', '95', '95', '95|112|222|335', '95|226|423|497|648', '95|226', '65|95|335|592', '51|95|400', '26|95|188|339|507', '95', '95|335', '95|142', '12|95|222']\n"
     ]
    }
   ],
   "source": [
    "alpha = [np.array(t[\"Tags\"]) for t in alphaTags]\n",
    "for a in alpha:\n",
    "    a.sort()\n",
    "tuplesArray = [\"|\".join(map(str,np.where(np.in1d(AllTags,a)== True)[0])) for a in alpha]\n",
    "print tuplesArray"
   ]
  },
  {
   "cell_type": "markdown",
   "metadata": {},
   "source": [
    "# Preprocessing of Tags For Tree"
   ]
  },
  {
   "cell_type": "code",
   "execution_count": 28,
   "metadata": {
    "collapsed": false
   },
   "outputs": [],
   "source": [
    "tupleSets = []\n",
    "differentTuples = []\n",
    "for i, mytag in enumerate(AllTags):\n",
    "    alphaTags = postCollections.aggregate([{\"$match\":{\"PostTypeId\":1,\"Tags\":{\"$in\":[mytag]}}},\n",
    "                                  {\"$project\":{\"_id\":0,\"Tags\":1}}])\n",
    "    alpha = [np.array(t[\"Tags\"]) for t in alphaTags]\n",
    "    for a in alpha:\n",
    "        a.sort()\n",
    "    differentStrings = [\"|\".join(map(str,np.where(np.in1d(AllTags,a) == True)[0])) \n",
    "                        for a in alpha]\n",
    "    \n",
    "    differentTuples.append(differentStrings)\n",
    "    tuplesArray = list(set(differentStrings))\n",
    "    tuplesArray = np.array([np.array(map(int,t.split(\"|\"))) for t in tuplesArray])\n",
    "    #tuplesArray = np.array(map(int,list(tuplesArray)[0].split(\"|\")))\n",
    "    tupleSets.append(tuplesArray)\n",
    "    \n",
    "tupleSets = np.array(tupleSets) ## Each entry is a list with the arrays of different tuples which appear for tags\n",
    "numberOfTuples = np.array(map(len,tupleSets)) ## How many different n-tuples appear\n",
    "tagsInBranch = np.array(map(set,map(np.concatenate,tupleSets))) #which are the different tags which appear with each tag\n",
    "numberOfTags = np.array(map(len,tagsInBranch)) #number of different tags encountered"
   ]
  },
  {
   "cell_type": "code",
   "execution_count": 32,
   "metadata": {
    "collapsed": false,
    "scrolled": true
   },
   "outputs": [
    {
     "data": {
      "text/plain": [
       "array([  1,  56,   1,   2,   1,   1,  12,  20,   8, 234,   2,   7, 127,\n",
       "         4,   2,   6,  11,   1,   4,   1,   4,   1,  16,  87, 157,   1,\n",
       "        23,   3,   1,   1,   4,   9,   1,   3,  58,   2,   3,  40,   5,\n",
       "         6,  16,   5,  69,   1,   6,   2,   1,   3,   2,  24,   2,  26,\n",
       "         1,   3,  13,   4,   3,   1,   1,   3,   8,   2,   1,   2, 138,\n",
       "        23,   1,   3,   3,   5,   4,  61,   2,  17,   1,   8,   3,   8,\n",
       "         1,  16,   3,  31,   4,   8,  50,  43,  20,   8,  83,   5,   3,\n",
       "         2,   2,   4,  18,  25,   9,  10,   3,   2,   4,   3,  37,  20,\n",
       "         5,   5,   3,  35,   3,   8,   9,   6,  90,  38,  11,   7,  11,\n",
       "        13,  32,   1,  13,   4,  12,   6,   3,   2,   8,   1,   6,   8,\n",
       "        18,   1,  21,   1,  50,   1,   9,  10,   1,   1,   3,   2,  18,\n",
       "         6,   4,   2,  37,   4,  10,   2,  19, 231,   1,   9,   1,   5,\n",
       "        11,   2,   1,  10,   4,   6,   9,   3,   8,  15,   3,   6,  24,\n",
       "        28,   1,  12,   1,   2,   1,   1,  24,   3,   1, 293,   7,   3,\n",
       "         6,  49, 222,   1,   3,   5,  14,   3,   6,   2,   1,   3,   2,\n",
       "         1,   4,   3,   1,  71,   3,   6,  21,   8,   3,  24,   1,  16,\n",
       "         9,   1,   4,   2,   1,   7,   7,   3,  52,   1,   5,   1,   2,\n",
       "         2, 397,   5, 136,  43, 471,   6,   2,  12,   2,  14,   1,   2,\n",
       "         4,   1,   1,   2,   2,   2,   4,  17,  68,   9,   1,   4,   9,\n",
       "         8,   1,   7,   1,   1,   3,  25,  42,   1,   1,   5,   1,   3,\n",
       "        25,   8, 213,   1,   2,  11,   1,   5,   3,   5,  31,   3,  20,\n",
       "         7,   2,  15,  56,   3,   9,   8,   6,   1,   2,   2,   6,   7,\n",
       "         6,  13,  15,  17,   1,   7,   1,  15,   1,   8,   1,   2,   5,\n",
       "         1,  40,   3,   1,   4,   7,  22,   6,   6,   1,   4,   3,   5,\n",
       "        38,   4,  20,  13,   1,   1,   2,  11,  32,   2,   2,  13,   9,\n",
       "        21,   1,  21,   4,  16,   1,  10,   2,   5,  27, 643, 152,  12,\n",
       "         8,  28,   4,   4,   8,   8,   6,   4,   4,   6,  52,   3,   1,\n",
       "        12,   2,   1,  14,   7,   9,  47,   2,  57,   1,   3,   5,  21,\n",
       "         1,   3,   5,   4,  13,   1,   5,   2,   3,  16,  15,  10, 293,\n",
       "        13,  49,  15,   3,   1,   1,   3,  50,  12,   2,   3,   1,   5,\n",
       "         4,   1,   2,   4,   6,   3, 108,   3,   3,   9,  25,   2,   2,\n",
       "        20,   5,   3,  35,   1,   4,  10,   6,   1,   8,  22,  45,  30,\n",
       "        70,   5,  38,  17,  18,   2,  19,  18,   3,   3,   4,  15,  21,\n",
       "         2,  14,   2,  50,  33, 128, 263,   9,   2,   1,   4,   1,   3,\n",
       "         2,   1,   1,  19,  32,   6,   3,   2,   1,   2,  68,   1,   2,\n",
       "         1,   9,   3,   1,   4,  24,   1,  20, 188,  28,  50,   1,  35,\n",
       "         1,   3,  38,   4,  21,   3, 105, 106,  40,  34,  25,   2,   3,\n",
       "         6, 158,   6,  17,   8,  64,  16,  17,  17,   7,   1,   4,   2,\n",
       "         1,   5,  11,  14,   5,   4,  19,  10,   9,  22,   4,   7,   2,\n",
       "        20,   1,   6,   7,   1,  12,   1,   1,   6,  10,  24,  10,   3,\n",
       "         1,  30,  21,  12,   3, 104,  13,  29,  21,  80,   9,   3,   2,\n",
       "         2,   1,   6,   4,   5,   9,   5,  22, 363,  23,   9, 109,   4,\n",
       "         1,   2,   1,   1,   1,  11,   3,   2,   4,   2,   2,   9,  18,\n",
       "         2,  21,   9,   4,  11,   6,   2,  10,  18,  20,   7,  27,   3,\n",
       "         1,  20,   4,  37,  14,   5,   1,   7,   7,   1, 103,  16,  34,\n",
       "         2,   1,   1,  22,  11,   3, 117, 146,   1,   5,   3,   1,   8,\n",
       "         7,   5,   1,   2,   4,   1,  46,  19,   4,   6,   1,   3,  12,\n",
       "         4,  12,  18,  64,   5,  17,   1,   1,  18,   2, 165,   7,   7,\n",
       "        69,   2,   5,   6, 304,  89,   2,   1,  26,   3,   5,   2,   2,\n",
       "         7,   4,   3,   5,   1,   3,  12,   1,   5,   1,   2, 538,   6,\n",
       "         2,  92,   4, 285,   1,   3,  31,  69,   3,   1,  17])"
      ]
     },
     "execution_count": 32,
     "metadata": {},
     "output_type": "execute_result"
    }
   ],
   "source": [
    "numberOfTuples"
   ]
  },
  {
   "cell_type": "code",
   "execution_count": 27,
   "metadata": {
    "collapsed": false
   },
   "outputs": [
    {
     "data": {
      "text/plain": [
       "4663"
      ]
     },
     "execution_count": 27,
     "metadata": {},
     "output_type": "execute_result"
    }
   ],
   "source": [
    "len(set(np.concatenate(differentTuples)))"
   ]
  },
  {
   "cell_type": "code",
   "execution_count": 10,
   "metadata": {
    "collapsed": false
   },
   "outputs": [
    {
     "data": {
      "text/plain": [
       "1015"
      ]
     },
     "execution_count": 10,
     "metadata": {},
     "output_type": "execute_result"
    }
   ],
   "source": [
    "len(tupleSets)"
   ]
  },
  {
   "cell_type": "code",
   "execution_count": 11,
   "metadata": {
    "collapsed": false
   },
   "outputs": [
    {
     "data": {
      "text/plain": [
       "1015"
      ]
     },
     "execution_count": 11,
     "metadata": {},
     "output_type": "execute_result"
    }
   ],
   "source": [
    "len(tagsInBranch)"
   ]
  },
  {
   "cell_type": "code",
   "execution_count": 43,
   "metadata": {
    "collapsed": false
   },
   "outputs": [],
   "source": [
    "sizesOfTuples = []\n",
    "for tupleList in tupleSets:\n",
    "    for t in tupleList:\n",
    "        sizesOfTuples.append(len(t))"
   ]
  },
  {
   "cell_type": "code",
   "execution_count": 44,
   "metadata": {
    "collapsed": false
   },
   "outputs": [],
   "source": [
    "plt.hist(sizesOfTuples)\n",
    "plt.show()"
   ]
  },
  {
   "cell_type": "code",
   "execution_count": 12,
   "metadata": {
    "collapsed": false,
    "scrolled": true
   },
   "outputs": [
    {
     "data": {
      "text/plain": [
       "array([array([[  0, 438, 462, 538]]),\n",
       "       array([array([  1, 438, 477]), array([  1, 477, 946]),\n",
       "       array([  1, 355, 438]), array([  1, 380, 438, 884]),\n",
       "       array([  1, 438, 451]), array([  1,   2,  18, 670]),\n",
       "       array([  1,   2, 438, 538]), array([1]), array([  1,  61, 438]),\n",
       "       array([  1,  61, 438, 877, 940]), array([  1,  77, 438]),\n",
       "       array([  1, 587, 723, 977]), array([  1, 812]),\n",
       "       array([  1, 164, 866, 901]), array([  1, 125, 191, 255]),\n",
       "       array([  1,  61, 415, 438]), array([  1, 266]),\n",
       "       array([  1, 434, 438]), array([  1, 255, 438, 636]),\n",
       "       array([  1, 473]), array([  1, 477]), array([  1, 538]),\n",
       "       array([  1, 438, 680, 812]), array([  1, 380]), array([  1, 438]),\n",
       "       array([  1, 924]), array([  1, 284, 438, 477])], dtype=object),\n",
       "       array([array([  2,  61, 438]), array([  2,  61, 414, 587]),\n",
       "       array([  2, 438, 812]), array([  1,   2,  18, 670]),\n",
       "       array([  2, 255, 854, 882]), array([  2, 266, 438]),\n",
       "       array([  2, 438, 924]), array([  2,  61, 511]),\n",
       "       array([  2,  61, 266, 438, 940]), array([  2, 438, 877]),\n",
       "       array([  2, 438, 854]), array([  2, 432, 894]), array([  2, 409]),\n",
       "       array([  2, 352, 642]), array([  2,  61, 438, 812]),\n",
       "       array([  2, 391, 438, 812]), array([  2, 438, 980]),\n",
       "       array([  1,   2, 438, 538])], dtype=object),\n",
       "       ..., array([[ 222,  950, 1012]]),\n",
       "       array([array([ 142, 1013]), array([  60,  568,  834, 1013]),\n",
       "       array([ 142,  717, 1013]), array([ 142,  782,  834, 1013]),\n",
       "       array([ 142,  812,  831, 1013]),\n",
       "       array([ 101,  142,  738,  831, 1013]),\n",
       "       array([ 142,  705,  950, 1013]),\n",
       "       array([  21,  142,  165,  717, 1013])], dtype=object),\n",
       "       array([array([  18,  423,  825, 1014]), array([  86,  670, 1014]),\n",
       "       array([ 364,  670, 1014]), array([  41,  228,  670,  825, 1014]),\n",
       "       array([ 670, 1014]), array([ 293,  622,  670, 1014]),\n",
       "       array([ 670,  823, 1014]), array([ 390,  670,  849, 1014]),\n",
       "       array([  38,  670, 1014]), array([  61,  185,  284,  868, 1014]),\n",
       "       array([ 104,  367,  888, 1014]), array([ 228,  749, 1014]),\n",
       "       array([ 228, 1014]), array([  18,  310, 1014]),\n",
       "       array([ 104,  670,  888, 1014]), array([1014]),\n",
       "       array([ 462,  670, 1014]), array([ 670,  812, 1014]),\n",
       "       array([ 104, 1014]), array([  18,   51,  344, 1014]),\n",
       "       array([ 142,  423,  734,  849, 1014])], dtype=object)], dtype=object)"
      ]
     },
     "execution_count": 12,
     "metadata": {},
     "output_type": "execute_result"
    }
   ],
   "source": [
    "tupleSets"
   ]
  },
  {
   "cell_type": "code",
   "execution_count": null,
   "metadata": {
    "collapsed": true
   },
   "outputs": [],
   "source": []
  }
 ],
 "metadata": {
  "kernelspec": {
   "display_name": "Python 2",
   "language": "python",
   "name": "python2"
  },
  "language_info": {
   "codemirror_mode": {
    "name": "ipython",
    "version": 2
   },
   "file_extension": ".py",
   "mimetype": "text/x-python",
   "name": "python",
   "nbconvert_exporter": "python",
   "pygments_lexer": "ipython2",
   "version": "2.7.12"
  }
 },
 "nbformat": 4,
 "nbformat_minor": 0
}
